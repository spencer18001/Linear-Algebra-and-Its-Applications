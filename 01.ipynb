{
  "cells": [
    {
      "cell_type": "markdown",
      "metadata": {
        "id": "view-in-github",
        "colab_type": "text"
      },
      "source": [
        "<a href=\"https://colab.research.google.com/github/spencer18001/Linear-Algebra-and-Its-Applications/blob/main/01.ipynb\" target=\"_parent\"><img src=\"https://colab.research.google.com/assets/colab-badge.svg\" alt=\"Open In Colab\"/></a>"
      ]
    },
    {
      "cell_type": "code",
      "source": [
        "import sympy as sp\n",
        "from IPython.display import display"
      ],
      "metadata": {
        "id": "igi3nEPaQW-S"
      },
      "id": "igi3nEPaQW-S",
      "execution_count": 3,
      "outputs": []
    },
    {
      "cell_type": "code",
      "source": [
        "def matrix_to_linear_eq(aug_matrix):\n",
        "    A = aug_matrix[:, :-1]\n",
        "    b = aug_matrix[:, -1]\n",
        "    vars = sp.symbols([f'x_{i}' for i in range(1, A.shape[1] + 1)])\n",
        "\n",
        "    eqns = []\n",
        "    for i in range(A.shape[0]):\n",
        "        eq = sp.Eq(sum(A[i, j] * vars[j] for j in range(A.shape[1])), b[i])\n",
        "        eqns.append(eq)\n",
        "    return vars, eqns"
      ],
      "metadata": {
        "id": "ol9gLOTKiUgU"
      },
      "id": "ol9gLOTKiUgU",
      "execution_count": null,
      "outputs": []
    },
    {
      "cell_type": "code",
      "source": [
        "# 參考 https://github.com/sympy/sympy/issues/25661\n",
        "def rref_aug(A, b):\n",
        "    aug_A = sp.Matrix.hstack(A, sp.Matrix.eye(A.shape[0]), b)\n",
        "    rref_aug_A = aug_A.rref(pivots=False)\n",
        "    ret = sp.Matrix.hstack(rref_aug_A[:, :A.shape[1]], rref_aug_A[:, A.shape[0] + A.shape[1]:])\n",
        "    return ret"
      ],
      "metadata": {
        "id": "2Oxx9rK8iSxQ"
      },
      "id": "2Oxx9rK8iSxQ",
      "execution_count": 20,
      "outputs": []
    },
    {
      "cell_type": "markdown",
      "source": [
        "## linear system"
      ],
      "metadata": {
        "id": "EWm8A137OHK5"
      },
      "id": "EWm8A137OHK5"
    },
    {
      "cell_type": "code",
      "source": [
        "A = sp.Matrix([[ 1, 6, 2,-5,-2,-4],\n",
        "               [ 0, 0, 2,-8,-1, 3],\n",
        "               [ 0, 0, 0, 0, 1, 7]]) # augmented matrix"
      ],
      "metadata": {
        "id": "AYygOhCoQdMc"
      },
      "id": "AYygOhCoQdMc",
      "execution_count": null,
      "outputs": []
    },
    {
      "cell_type": "code",
      "source": [
        "vars, eqs = matrix_to_linear_eq(A) # linear system\n",
        "display(*eqs)"
      ],
      "metadata": {
        "colab": {
          "base_uri": "https://localhost:8080/",
          "height": 83
        },
        "id": "qNFAqSi2V_xU",
        "outputId": "602864a0-d1d3-451a-9041-09d001a0527c"
      },
      "id": "qNFAqSi2V_xU",
      "execution_count": null,
      "outputs": [
        {
          "output_type": "display_data",
          "data": {
            "text/plain": [
              "Eq(x_1 + 6*x_2 + 2*x_3 - 5*x_4 - 2*x_5, -4)"
            ],
            "text/latex": "$\\displaystyle x_{1} + 6 x_{2} + 2 x_{3} - 5 x_{4} - 2 x_{5} = -4$"
          },
          "metadata": {}
        },
        {
          "output_type": "display_data",
          "data": {
            "text/plain": [
              "Eq(2*x_3 - 8*x_4 - x_5, 3)"
            ],
            "text/latex": "$\\displaystyle 2 x_{3} - 8 x_{4} - x_{5} = 3$"
          },
          "metadata": {}
        },
        {
          "output_type": "display_data",
          "data": {
            "text/plain": [
              "Eq(x_5, 7)"
            ],
            "text/latex": "$\\displaystyle x_{5} = 7$"
          },
          "metadata": {}
        }
      ]
    },
    {
      "cell_type": "code",
      "source": [
        "sp.linsolve(eqs, vars) # parametric descriptions of solution set"
      ],
      "metadata": {
        "colab": {
          "base_uri": "https://localhost:8080/",
          "height": 39
        },
        "id": "2Aiiv_hRX96F",
        "outputId": "7a4cd9d8-2f9c-48a9-9fa0-ce23629f146f"
      },
      "id": "2Aiiv_hRX96F",
      "execution_count": null,
      "outputs": [
        {
          "output_type": "execute_result",
          "data": {
            "text/plain": [
              "{(-6*x_2 - 3*x_4, x_2, 4*x_4 + 5, x_4, 7)}"
            ],
            "text/latex": "$\\displaystyle \\left\\{\\left( - 6 x_{2} - 3 x_{4}, \\  x_{2}, \\  4 x_{4} + 5, \\  x_{4}, \\  7\\right)\\right\\}$"
          },
          "metadata": {},
          "execution_count": 5
        }
      ]
    },
    {
      "cell_type": "code",
      "source": [
        "A.echelon_form() # REF"
      ],
      "metadata": {
        "colab": {
          "base_uri": "https://localhost:8080/",
          "height": 78
        },
        "id": "XYCG5Ij9RJVe",
        "outputId": "5190150e-e720-44f9-f526-18337ddfb91e"
      },
      "id": "XYCG5Ij9RJVe",
      "execution_count": null,
      "outputs": [
        {
          "output_type": "execute_result",
          "data": {
            "text/plain": [
              "Matrix([\n",
              "[1, 6, 2, -5, -2, -4],\n",
              "[0, 0, 2, -8, -1,  3],\n",
              "[0, 0, 0,  0,  1,  7]])"
            ],
            "text/latex": "$\\displaystyle \\left[\\begin{matrix}1 & 6 & 2 & -5 & -2 & -4\\\\0 & 0 & 2 & -8 & -1 & 3\\\\0 & 0 & 0 & 0 & 1 & 7\\end{matrix}\\right]$"
          },
          "metadata": {},
          "execution_count": 8
        }
      ]
    },
    {
      "cell_type": "code",
      "source": [
        "display(*A.rref()) # RREF"
      ],
      "metadata": {
        "colab": {
          "base_uri": "https://localhost:8080/",
          "height": 96
        },
        "id": "HFRqLV9sRHbU",
        "outputId": "c41b2c0a-84d3-4e16-b629-831a942637b7"
      },
      "id": "HFRqLV9sRHbU",
      "execution_count": null,
      "outputs": [
        {
          "output_type": "display_data",
          "data": {
            "text/plain": [
              "Matrix([\n",
              "[1, 6, 0,  3, 0, 0],\n",
              "[0, 0, 1, -4, 0, 5],\n",
              "[0, 0, 0,  0, 1, 7]])"
            ],
            "text/latex": "$\\displaystyle \\left[\\begin{matrix}1 & 6 & 0 & 3 & 0 & 0\\\\0 & 0 & 1 & -4 & 0 & 5\\\\0 & 0 & 0 & 0 & 1 & 7\\end{matrix}\\right]$"
          },
          "metadata": {}
        },
        {
          "output_type": "display_data",
          "data": {
            "text/plain": [
              "(0, 2, 4)"
            ]
          },
          "metadata": {}
        }
      ]
    },
    {
      "cell_type": "markdown",
      "source": [
        "## column space"
      ],
      "metadata": {
        "id": "yk6FIU4JdUIH"
      },
      "id": "yk6FIU4JdUIH"
    },
    {
      "cell_type": "code",
      "source": [
        "A = sp.Matrix([[ 1, 3, 4],\n",
        "               [-4, 2,-6],\n",
        "               [-3,-2,-7]])"
      ],
      "metadata": {
        "id": "SwKUWI88atHt"
      },
      "id": "SwKUWI88atHt",
      "execution_count": 27,
      "outputs": []
    },
    {
      "cell_type": "markdown",
      "source": [
        "1) sympy api"
      ],
      "metadata": {
        "id": "QV99OX8IopB2"
      },
      "id": "QV99OX8IopB2"
    },
    {
      "cell_type": "code",
      "source": [
        "display(*A.columnspace())"
      ],
      "metadata": {
        "id": "sSBXIgA9dfIt",
        "outputId": "8d6bd68d-3808-48f2-d8c5-b9fd79c839c5",
        "colab": {
          "base_uri": "https://localhost:8080/",
          "height": 139
        }
      },
      "id": "sSBXIgA9dfIt",
      "execution_count": 44,
      "outputs": [
        {
          "output_type": "display_data",
          "data": {
            "text/plain": [
              "Matrix([\n",
              "[ 1],\n",
              "[-4],\n",
              "[-3]])"
            ],
            "text/latex": "$\\displaystyle \\left[\\begin{matrix}1\\\\-4\\\\-3\\end{matrix}\\right]$"
          },
          "metadata": {}
        },
        {
          "output_type": "display_data",
          "data": {
            "text/plain": [
              "Matrix([\n",
              "[ 3],\n",
              "[ 2],\n",
              "[-2]])"
            ],
            "text/latex": "$\\displaystyle \\left[\\begin{matrix}3\\\\2\\\\-2\\end{matrix}\\right]$"
          },
          "metadata": {}
        }
      ]
    },
    {
      "cell_type": "markdown",
      "source": [
        "2) 解方程式得到使 system consistent 的 b 解空間"
      ],
      "metadata": {
        "id": "Tb0mvdp2orm9"
      },
      "id": "Tb0mvdp2orm9"
    },
    {
      "cell_type": "code",
      "source": [
        "vars = sp.symbols([f'b_{i}' for i in range(1, A.shape[1] + 1)])\n",
        "b = sp.Matrix(vars).reshape(A.shape[0], 1)\n",
        "aug_A = sp.Matrix.hstack(A, b)"
      ],
      "metadata": {
        "id": "ylup4BUtd-K9"
      },
      "id": "ylup4BUtd-K9",
      "execution_count": 33,
      "outputs": []
    },
    {
      "cell_type": "code",
      "source": [
        "ref_A = aug_A.echelon_form()\n",
        "ref_A"
      ],
      "metadata": {
        "id": "v5vaQQyZmG0D",
        "outputId": "92f76c74-afdf-4866-f021-5b6b721e6c10",
        "colab": {
          "base_uri": "https://localhost:8080/",
          "height": 78
        }
      },
      "id": "v5vaQQyZmG0D",
      "execution_count": 35,
      "outputs": [
        {
          "output_type": "execute_result",
          "data": {
            "text/plain": [
              "Matrix([\n",
              "[1,  3,  4,                     b_1],\n",
              "[0, 14, 10,             4*b_1 + b_2],\n",
              "[0,  0,  0, 14*b_1 - 7*b_2 + 14*b_3]])"
            ],
            "text/latex": "$\\displaystyle \\left[\\begin{matrix}1 & 3 & 4 & b_{1}\\\\0 & 14 & 10 & 4 b_{1} + b_{2}\\\\0 & 0 & 0 & 14 b_{1} - 7 b_{2} + 14 b_{3}\\end{matrix}\\right]$"
          },
          "metadata": {},
          "execution_count": 35
        }
      ]
    },
    {
      "cell_type": "code",
      "source": [
        "coeff_dict = ref_A[-1, -1].as_coefficients_dict()\n",
        "coeff_matrix = [[coeff_dict.get(var, 0) for var in vars]]\n",
        "coeff_matrix"
      ],
      "metadata": {
        "id": "kwi6ruxZpadA",
        "outputId": "c2f29b8a-afe1-4ecb-9bb2-4ef13dc11f5d",
        "colab": {
          "base_uri": "https://localhost:8080/"
        }
      },
      "id": "kwi6ruxZpadA",
      "execution_count": 46,
      "outputs": [
        {
          "output_type": "execute_result",
          "data": {
            "text/plain": [
              "[[14, -7, 14]]"
            ]
          },
          "metadata": {},
          "execution_count": 46
        }
      ]
    },
    {
      "cell_type": "code",
      "source": [
        "display(*sp.Matrix(coeff_matrix).nullspace())"
      ],
      "metadata": {
        "id": "_M5UggqJnE89",
        "outputId": "2ef6f4d3-8501-4ecf-89bb-5c2bb832be2e",
        "colab": {
          "base_uri": "https://localhost:8080/",
          "height": 139
        }
      },
      "id": "_M5UggqJnE89",
      "execution_count": 47,
      "outputs": [
        {
          "output_type": "display_data",
          "data": {
            "text/plain": [
              "Matrix([\n",
              "[1/2],\n",
              "[  1],\n",
              "[  0]])"
            ],
            "text/latex": "$\\displaystyle \\left[\\begin{matrix}\\frac{1}{2}\\\\1\\\\0\\end{matrix}\\right]$"
          },
          "metadata": {}
        },
        {
          "output_type": "display_data",
          "data": {
            "text/plain": [
              "Matrix([\n",
              "[-1],\n",
              "[ 0],\n",
              "[ 1]])"
            ],
            "text/latex": "$\\displaystyle \\left[\\begin{matrix}-1\\\\0\\\\1\\end{matrix}\\right]$"
          },
          "metadata": {}
        }
      ]
    },
    {
      "cell_type": "code",
      "source": [],
      "metadata": {
        "id": "ShmzR5kPnNrK"
      },
      "id": "ShmzR5kPnNrK",
      "execution_count": null,
      "outputs": []
    }
  ],
  "metadata": {
    "kernelspec": {
      "display_name": "Python 3 (ipykernel)",
      "language": "python",
      "name": "python3"
    },
    "language_info": {
      "codemirror_mode": {
        "name": "ipython",
        "version": 3
      },
      "file_extension": ".py",
      "mimetype": "text/x-python",
      "name": "python",
      "nbconvert_exporter": "python",
      "pygments_lexer": "ipython3",
      "version": "3.8.11"
    },
    "colab": {
      "provenance": [],
      "toc_visible": true,
      "include_colab_link": true
    }
  },
  "nbformat": 4,
  "nbformat_minor": 5
}