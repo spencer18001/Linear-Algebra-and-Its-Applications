{
  "cells": [
    {
      "cell_type": "markdown",
      "metadata": {
        "id": "view-in-github",
        "colab_type": "text"
      },
      "source": [
        "<a href=\"https://colab.research.google.com/github/spencer18001/Linear-Algebra-and-Its-Applications/blob/main/01.ipynb\" target=\"_parent\"><img src=\"https://colab.research.google.com/assets/colab-badge.svg\" alt=\"Open In Colab\"/></a>"
      ]
    },
    {
      "cell_type": "code",
      "source": [
        "import sympy as sp\n",
        "from IPython.display import display"
      ],
      "metadata": {
        "id": "igi3nEPaQW-S"
      },
      "id": "igi3nEPaQW-S",
      "execution_count": 1,
      "outputs": []
    },
    {
      "cell_type": "markdown",
      "source": [
        "## linear system"
      ],
      "metadata": {
        "id": "EWm8A137OHK5"
      },
      "id": "EWm8A137OHK5"
    },
    {
      "cell_type": "code",
      "source": [
        "def matrix_to_linear_eq(aug_matrix):\n",
        "    A = aug_matrix[:, :-1]\n",
        "    b = aug_matrix[:, -1]\n",
        "    vars = sp.symbols([f'x_{i}' for i in range(1, A.shape[1] + 1)])\n",
        "\n",
        "    eqns = []\n",
        "    for i in range(A.shape[0]):\n",
        "        eq = sp.Eq(sum(A[i, j] * vars[j] for j in range(A.shape[1])), b[i])\n",
        "        eqns.append(eq)\n",
        "    return vars, eqns"
      ],
      "metadata": {
        "id": "GPcMhQQPTWXa"
      },
      "id": "GPcMhQQPTWXa",
      "execution_count": 2,
      "outputs": []
    },
    {
      "cell_type": "code",
      "source": [
        "A = sp.Matrix([[ 1, 6, 2,-5,-2,-4],\n",
        "               [ 0, 0, 2,-8,-1, 3],\n",
        "               [ 0, 0, 0, 0, 1, 7]]) # augmented matrix"
      ],
      "metadata": {
        "id": "AYygOhCoQdMc"
      },
      "id": "AYygOhCoQdMc",
      "execution_count": 3,
      "outputs": []
    },
    {
      "cell_type": "code",
      "source": [
        "vars, eqs = matrix_to_linear_eq(A) # linear system\n",
        "for eq in eqs:\n",
        "    display(eq)"
      ],
      "metadata": {
        "id": "qNFAqSi2V_xU",
        "outputId": "18972204-394f-4d56-e3f3-d3f72976b68b",
        "colab": {
          "base_uri": "https://localhost:8080/",
          "height": 83
        }
      },
      "id": "qNFAqSi2V_xU",
      "execution_count": 4,
      "outputs": [
        {
          "output_type": "display_data",
          "data": {
            "text/plain": [
              "Eq(x_1 + 6*x_2 + 2*x_3 - 5*x_4 - 2*x_5, -4)"
            ],
            "text/latex": "$\\displaystyle x_{1} + 6 x_{2} + 2 x_{3} - 5 x_{4} - 2 x_{5} = -4$"
          },
          "metadata": {}
        },
        {
          "output_type": "display_data",
          "data": {
            "text/plain": [
              "Eq(2*x_3 - 8*x_4 - x_5, 3)"
            ],
            "text/latex": "$\\displaystyle 2 x_{3} - 8 x_{4} - x_{5} = 3$"
          },
          "metadata": {}
        },
        {
          "output_type": "display_data",
          "data": {
            "text/plain": [
              "Eq(x_5, 7)"
            ],
            "text/latex": "$\\displaystyle x_{5} = 7$"
          },
          "metadata": {}
        }
      ]
    },
    {
      "cell_type": "code",
      "source": [
        "sp.linsolve(eqs, vars) # parametric descriptions of solution set"
      ],
      "metadata": {
        "id": "2Aiiv_hRX96F",
        "outputId": "7a4cd9d8-2f9c-48a9-9fa0-ce23629f146f",
        "colab": {
          "base_uri": "https://localhost:8080/",
          "height": 39
        }
      },
      "id": "2Aiiv_hRX96F",
      "execution_count": 5,
      "outputs": [
        {
          "output_type": "execute_result",
          "data": {
            "text/plain": [
              "{(-6*x_2 - 3*x_4, x_2, 4*x_4 + 5, x_4, 7)}"
            ],
            "text/latex": "$\\displaystyle \\left\\{\\left( - 6 x_{2} - 3 x_{4}, \\  x_{2}, \\  4 x_{4} + 5, \\  x_{4}, \\  7\\right)\\right\\}$"
          },
          "metadata": {},
          "execution_count": 5
        }
      ]
    },
    {
      "cell_type": "code",
      "source": [
        "A.echelon_form() # REF"
      ],
      "metadata": {
        "id": "XYCG5Ij9RJVe",
        "outputId": "5190150e-e720-44f9-f526-18337ddfb91e",
        "colab": {
          "base_uri": "https://localhost:8080/",
          "height": 78
        }
      },
      "id": "XYCG5Ij9RJVe",
      "execution_count": 8,
      "outputs": [
        {
          "output_type": "execute_result",
          "data": {
            "text/plain": [
              "Matrix([\n",
              "[1, 6, 2, -5, -2, -4],\n",
              "[0, 0, 2, -8, -1,  3],\n",
              "[0, 0, 0,  0,  1,  7]])"
            ],
            "text/latex": "$\\displaystyle \\left[\\begin{matrix}1 & 6 & 2 & -5 & -2 & -4\\\\0 & 0 & 2 & -8 & -1 & 3\\\\0 & 0 & 0 & 0 & 1 & 7\\end{matrix}\\right]$"
          },
          "metadata": {},
          "execution_count": 8
        }
      ]
    },
    {
      "cell_type": "code",
      "source": [
        "display(*(A.rref())) # RREF"
      ],
      "metadata": {
        "id": "HFRqLV9sRHbU",
        "outputId": "0d6e8595-ba4a-444f-c005-bbeb7bd66d7e",
        "colab": {
          "base_uri": "https://localhost:8080/",
          "height": 96
        }
      },
      "id": "HFRqLV9sRHbU",
      "execution_count": 12,
      "outputs": [
        {
          "output_type": "display_data",
          "data": {
            "text/plain": [
              "Matrix([\n",
              "[1, 6, 0,  3, 0, 0],\n",
              "[0, 0, 1, -4, 0, 5],\n",
              "[0, 0, 0,  0, 1, 7]])"
            ],
            "text/latex": "$\\displaystyle \\left[\\begin{matrix}1 & 6 & 0 & 3 & 0 & 0\\\\0 & 0 & 1 & -4 & 0 & 5\\\\0 & 0 & 0 & 0 & 1 & 7\\end{matrix}\\right]$"
          },
          "metadata": {}
        },
        {
          "output_type": "display_data",
          "data": {
            "text/plain": [
              "(0, 2, 4)"
            ]
          },
          "metadata": {}
        }
      ]
    },
    {
      "cell_type": "code",
      "source": [],
      "metadata": {
        "id": "5U3QeoLSS0gt"
      },
      "id": "5U3QeoLSS0gt",
      "execution_count": 7,
      "outputs": []
    }
  ],
  "metadata": {
    "kernelspec": {
      "display_name": "Python 3 (ipykernel)",
      "language": "python",
      "name": "python3"
    },
    "language_info": {
      "codemirror_mode": {
        "name": "ipython",
        "version": 3
      },
      "file_extension": ".py",
      "mimetype": "text/x-python",
      "name": "python",
      "nbconvert_exporter": "python",
      "pygments_lexer": "ipython3",
      "version": "3.8.11"
    },
    "colab": {
      "provenance": [],
      "include_colab_link": true
    }
  },
  "nbformat": 4,
  "nbformat_minor": 5
}