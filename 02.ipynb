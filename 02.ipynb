{
  "cells": [
    {
      "cell_type": "markdown",
      "metadata": {
        "id": "view-in-github",
        "colab_type": "text"
      },
      "source": [
        "<a href=\"https://colab.research.google.com/github/spencer18001/Linear-Algebra-and-Its-Applications/blob/main/02.ipynb\" target=\"_parent\"><img src=\"https://colab.research.google.com/assets/colab-badge.svg\" alt=\"Open In Colab\"/></a>"
      ]
    },
    {
      "cell_type": "code",
      "source": [
        "import sympy as sp"
      ],
      "metadata": {
        "id": "igi3nEPaQW-S"
      },
      "id": "igi3nEPaQW-S",
      "execution_count": 1,
      "outputs": []
    },
    {
      "cell_type": "code",
      "source": [
        "def matrix_to_linear_eq(aug_matrix):\n",
        "    A = aug_matrix[:, :-1]\n",
        "    b = aug_matrix[:, -1]\n",
        "    vars = sp.symbols([f'x_{i}' for i in range(1, A.shape[1] + 1)])\n",
        "\n",
        "    eqns = []\n",
        "    for i in range(A.shape[0]):\n",
        "        eq = sp.Eq(sum(A[i, j] * vars[j] for j in range(A.shape[1])), b[i])\n",
        "        eqns.append(eq)\n",
        "    return vars, eqns"
      ],
      "metadata": {
        "id": "ol9gLOTKiUgU"
      },
      "id": "ol9gLOTKiUgU",
      "execution_count": 2,
      "outputs": []
    },
    {
      "cell_type": "code",
      "source": [
        "# 參考 https://github.com/sympy/sympy/issues/25661\n",
        "def rref_aug(A, b):\n",
        "    aug_A = sp.Matrix.hstack(A, sp.Matrix.eye(A.shape[0]), b)\n",
        "    rref_aug_A = aug_A.rref(pivots=False)\n",
        "    ret = sp.Matrix.hstack(rref_aug_A[:, :A.shape[1]], rref_aug_A[:, A.shape[0] + A.shape[1]:])\n",
        "    return ret"
      ],
      "metadata": {
        "id": "2Oxx9rK8iSxQ"
      },
      "id": "2Oxx9rK8iSxQ",
      "execution_count": 3,
      "outputs": []
    },
    {
      "cell_type": "markdown",
      "source": [
        "## inverse matrix"
      ],
      "metadata": {
        "id": "EWm8A137OHK5"
      },
      "id": "EWm8A137OHK5"
    },
    {
      "cell_type": "code",
      "source": [
        "A = sp.Matrix([[ 0, 1, 2],\n",
        "               [ 1, 0, 3],\n",
        "               [ 4,-3, 8]])"
      ],
      "metadata": {
        "id": "AYygOhCoQdMc"
      },
      "id": "AYygOhCoQdMc",
      "execution_count": 4,
      "outputs": []
    },
    {
      "cell_type": "code",
      "source": [
        "aug_A = sp.Matrix.hstack(A, sp.Matrix.eye(A.shape[0]))"
      ],
      "metadata": {
        "id": "2SjU4LNerRdC"
      },
      "id": "2SjU4LNerRdC",
      "execution_count": 5,
      "outputs": []
    },
    {
      "cell_type": "code",
      "source": [
        "rref_aug_A = aug_A.rref(pivots=False)\n",
        "rref_aug_A"
      ],
      "metadata": {
        "colab": {
          "base_uri": "https://localhost:8080/",
          "height": 78
        },
        "id": "HFRqLV9sRHbU",
        "outputId": "8693f5fb-8e13-4165-dbad-0ee5d112bfb0"
      },
      "id": "HFRqLV9sRHbU",
      "execution_count": 14,
      "outputs": [
        {
          "output_type": "execute_result",
          "data": {
            "text/plain": [
              "Matrix([\n",
              "[1, 0, 0, -9/2,  7, -3/2],\n",
              "[0, 1, 0,   -2,  4,   -1],\n",
              "[0, 0, 1,  3/2, -2,  1/2]])"
            ],
            "text/latex": "$\\displaystyle \\left[\\begin{matrix}1 & 0 & 0 & - \\frac{9}{2} & 7 & - \\frac{3}{2}\\\\0 & 1 & 0 & -2 & 4 & -1\\\\0 & 0 & 1 & \\frac{3}{2} & -2 & \\frac{1}{2}\\end{matrix}\\right]$"
          },
          "metadata": {},
          "execution_count": 14
        }
      ]
    },
    {
      "cell_type": "code",
      "source": [
        "inv_A = rref_aug_A[:, 3:]\n",
        "inv_A"
      ],
      "metadata": {
        "colab": {
          "base_uri": "https://localhost:8080/",
          "height": 78
        },
        "id": "BQphc4jarhDe",
        "outputId": "ff595944-30c3-4f56-ee67-3bee3f8ee9a5"
      },
      "id": "BQphc4jarhDe",
      "execution_count": 15,
      "outputs": [
        {
          "output_type": "execute_result",
          "data": {
            "text/plain": [
              "Matrix([\n",
              "[-9/2,  7, -3/2],\n",
              "[  -2,  4,   -1],\n",
              "[ 3/2, -2,  1/2]])"
            ],
            "text/latex": "$\\displaystyle \\left[\\begin{matrix}- \\frac{9}{2} & 7 & - \\frac{3}{2}\\\\-2 & 4 & -1\\\\\\frac{3}{2} & -2 & \\frac{1}{2}\\end{matrix}\\right]$"
          },
          "metadata": {},
          "execution_count": 15
        }
      ]
    },
    {
      "cell_type": "markdown",
      "source": [
        "## LU decomposition"
      ],
      "metadata": {
        "id": "7WSUVIamtCei"
      },
      "id": "7WSUVIamtCei"
    },
    {
      "cell_type": "code",
      "source": [
        "A = sp.Matrix([[ 2, 4,-1, 5,-2],\n",
        "               [-4,-5, 3,-8, 1],\n",
        "               [2,-5,-4, 1, 8],\n",
        "               [-6, 0, 7,-3, 1]])"
      ],
      "metadata": {
        "id": "mxeqAE6rsQ16"
      },
      "id": "mxeqAE6rsQ16",
      "execution_count": 2,
      "outputs": []
    },
    {
      "cell_type": "code",
      "source": [
        "sp.pprint(A.LUdecomposition())"
      ],
      "metadata": {
        "colab": {
          "base_uri": "https://localhost:8080/"
        },
        "id": "N7fT5BYJtZoA",
        "outputId": "3277fb74-1364-4de7-b195-dbc0655388a7"
      },
      "id": "N7fT5BYJtZoA",
      "execution_count": 7,
      "outputs": [
        {
          "output_type": "stream",
          "name": "stdout",
          "text": [
            "⎛⎡1   0   0  0⎤  ⎡2  4  -1  5  -2⎤    ⎞\n",
            "⎜⎢            ⎥  ⎢               ⎥    ⎟\n",
            "⎜⎢-2  1   0  0⎥  ⎢0  3  1   2  -3⎥    ⎟\n",
            "⎜⎢            ⎥, ⎢               ⎥, []⎟\n",
            "⎜⎢1   -3  1  0⎥  ⎢0  0  0   2  1 ⎥    ⎟\n",
            "⎜⎢            ⎥  ⎢               ⎥    ⎟\n",
            "⎝⎣-3  4   2  1⎦  ⎣0  0  0   0  5 ⎦    ⎠\n"
          ]
        }
      ]
    },
    {
      "cell_type": "code",
      "source": [],
      "metadata": {
        "id": "6AMPxnBZwfTg"
      },
      "id": "6AMPxnBZwfTg",
      "execution_count": null,
      "outputs": []
    }
  ],
  "metadata": {
    "kernelspec": {
      "display_name": "Python 3 (ipykernel)",
      "language": "python",
      "name": "python3"
    },
    "language_info": {
      "codemirror_mode": {
        "name": "ipython",
        "version": 3
      },
      "file_extension": ".py",
      "mimetype": "text/x-python",
      "name": "python",
      "nbconvert_exporter": "python",
      "pygments_lexer": "ipython3",
      "version": "3.8.11"
    },
    "colab": {
      "provenance": [],
      "toc_visible": true,
      "include_colab_link": true
    }
  },
  "nbformat": 4,
  "nbformat_minor": 5
}